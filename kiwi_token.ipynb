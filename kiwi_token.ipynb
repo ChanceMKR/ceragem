{
  "cells": [
    {
      "cell_type": "code",
      "execution_count": 1,
      "metadata": {
        "id": "qQOLSsVUMLJH"
      },
      "outputs": [
        {
          "data": {
            "text/plain": [
              "'/Users/chance/Desktop/Project/세라잼/DCX'"
            ]
          },
          "execution_count": 1,
          "metadata": {},
          "output_type": "execute_result"
        }
      ],
      "source": [
        "#-*- coding: utf-8 -*\n",
        "# data, result 폴더 만드셔야합니다!\n",
        "# data 폴더엔 tagging할 파일 넣으시면 됩니다\n",
        "\n",
        "from kiwipiepy import Kiwi\n",
        "import glob\n",
        "import os\n",
        "import pandas as pd\n",
        "from tqdm import tqdm\n",
        "tqdm.pandas()\n",
        "\n",
        "os.getcwd()"
      ]
    },
    {
      "cell_type": "markdown",
      "metadata": {
        "id": "imwCXOr-MLJI"
      },
      "source": [
        "# Kiwi 이용하여 전처리\n",
        "\n",
        "1. 라벨링 통합데이터 --> 삼중준지도용 tokenizing\n",
        "2. "
      ]
    },
    {
      "cell_type": "code",
      "execution_count": 2,
      "metadata": {},
      "outputs": [
        {
          "name": "stdout",
          "output_type": "stream",
          "text": [
            "\n",
            "\n"
          ]
        }
      ],
      "source": [
        "data_path = './2.라벨링통합/result/'\n",
        "column_name = 'review'\n",
        "user_word = '''\n",
        "'''\n",
        "kiwi = Kiwi()\n",
        "\n",
        "user_dict = user_word.split('\\n')\n",
        "for words in user_dict:\n",
        "    kiwi.add_user_word(words, \"NNP\")\n",
        "    print(words)"
      ]
    },
    {
      "cell_type": "code",
      "execution_count": 6,
      "metadata": {},
      "outputs": [],
      "source": [
        "def kiwi_pos(sentence):\n",
        "    pos_list = []\n",
        "    results = kiwi.analyze(str(sentence))\n",
        "    # 결과 출력\n",
        "    for result in results:\n",
        "        for word, tag, start_pos, end_pos in result[0]:\n",
        "            pos_list.append(tuple([word, tag]))\n",
        "    return pos_list\n",
        "\n",
        "def preprocess_kiwi(sentence):\n",
        "    pos_list = kiwi_pos(sentence)\n",
        "    tags = ['NNG','NNP','VV','VA','VX','VCP','VCN','MAG']\n",
        "    words = []\n",
        "    for word, tag in pos_list:\n",
        "        if len(word)<2 : # 길이 1개인건 버림\n",
        "            continue\n",
        "        if tag in tags:\n",
        "            words.append(word)\n",
        "    return words\n",
        "\n",
        "def create_data_path(data_path):\n",
        "    if not os.path.exists(data_path):\n",
        "        os.makedirs(data_path)\n",
        "        print(f\"Directory {data_path} created.\")\n",
        "    else:\n",
        "        print(f\"Directory {data_path} already exists.\")\n",
        "\n",
        "def kiwi_tokenizing(data_path, user_word, column_name):\n",
        "    data_list = glob.glob(f'{data_path}*.csv')\n",
        "    for i in data_list:\n",
        "        i.split\n",
        "        df = pd.read_csv(f'{i}')\n",
        "        df['kiwi_token'] = df[f'{column_name}'].progress_apply(lambda x : preprocess_kiwi(x))\n",
        "        temp = i.split('/')[-1]\n",
        "        create_data_path(data_path+'/kiwi/')\n",
        "        df.to_csv(f'{data_path}/kiwi/[kiwi]{temp}', encoding='utf-8', index=False)"
      ]
    },
    {
      "cell_type": "code",
      "execution_count": 7,
      "metadata": {},
      "outputs": [
        {
          "name": "stderr",
          "output_type": "stream",
          "text": [
            "100%|██████████| 12/12 [00:00<00:00, 361.00it/s]"
          ]
        },
        {
          "name": "stdout",
          "output_type": "stream",
          "text": [
            "Directory ./2.라벨링통합/result//kiwi/ already exists.\n"
          ]
        },
        {
          "name": "stderr",
          "output_type": "stream",
          "text": [
            "\n"
          ]
        }
      ],
      "source": [
        "kiwi_tokenizing(data_path, user_word, column_name)"
      ]
    },
    {
      "cell_type": "code",
      "execution_count": null,
      "metadata": {},
      "outputs": [],
      "source": []
    }
  ],
  "metadata": {
    "colab": {
      "provenance": []
    },
    "kernelspec": {
      "display_name": "Python 3 (ipykernel)",
      "language": "python",
      "name": "python3"
    },
    "language_info": {
      "codemirror_mode": {
        "name": "ipython",
        "version": 3
      },
      "file_extension": ".py",
      "mimetype": "text/x-python",
      "name": "python",
      "nbconvert_exporter": "python",
      "pygments_lexer": "ipython3",
      "version": "3.11.9"
    },
    "varInspector": {
      "cols": {
        "lenName": 16,
        "lenType": 16,
        "lenVar": 40
      },
      "kernels_config": {
        "python": {
          "delete_cmd_postfix": "",
          "delete_cmd_prefix": "del ",
          "library": "var_list.py",
          "varRefreshCmd": "print(var_dic_list())"
        },
        "r": {
          "delete_cmd_postfix": ") ",
          "delete_cmd_prefix": "rm(",
          "library": "var_list.r",
          "varRefreshCmd": "cat(var_dic_list()) "
        }
      },
      "types_to_exclude": [
        "module",
        "function",
        "builtin_function_or_method",
        "instance",
        "_Feature"
      ],
      "window_display": false
    }
  },
  "nbformat": 4,
  "nbformat_minor": 0
}
