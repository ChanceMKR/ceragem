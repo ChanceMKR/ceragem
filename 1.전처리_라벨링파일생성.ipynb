{
 "cells": [
  {
   "cell_type": "code",
   "execution_count": 11,
   "metadata": {},
   "outputs": [
    {
     "data": {
      "text/plain": [
       "'/Users/chance/Desktop/Project/세라잼/DCX'"
      ]
     },
     "execution_count": 11,
     "metadata": {},
     "output_type": "execute_result"
    }
   ],
   "source": [
    "import pandas as pd\n",
    "import re\n",
    "import glob\n",
    "import os\n",
    "\n",
    "os.getcwd()"
   ]
  },
  {
   "cell_type": "markdown",
   "metadata": {},
   "source": [
    "# 크롤링 파일 이름명 예시\n",
    "\n",
    "[프로젝트명]Crawling_채널이름채널숫자.csv\n",
    "\n",
    "ex. [세라잼]Crawling_네이버카페0.csv"
   ]
  },
  {
   "cell_type": "code",
   "execution_count": 12,
   "metadata": {},
   "outputs": [],
   "source": [
    "def preprocess_text(text):\n",
    "    if isinstance(text, str):\n",
    "        text = re.sub(r'\\n', ' ', text) # 줄넘김 없앰\n",
    "        text = re.sub(r'\\s+', ' ', text) # 공백 두 개 이상은 공백 하나로\n",
    "        text = re.sub(r'[^\\w\\s]', ' ', text) # 특수문자 제거\n",
    "        text = re.sub(r'http[s]?://\\S+', ' ', text) #re.sub(r'https?://\\S+', '', text) url 제거\n",
    "        text = re.sub(r'\\d', ' ', text) # 숫자 제거\n",
    "\n",
    "    return text"
   ]
  },
  {
   "cell_type": "code",
   "execution_count": 13,
   "metadata": {},
   "outputs": [],
   "source": [
    "def main(project_name, channel, crawling_data_path, labeling_result_path,group_num, sample_frac=0.05):\n",
    "    data = os.listdir(crawling_data_path)\n",
    "\n",
    "    label_list = []\n",
    "    for c in channel:\n",
    "        crawling_file_list = glob.glob(f'{crawling_data_path}/*{c}*.csv')\n",
    "        file_list = [pd.read_csv(file) for file in crawling_file_list]\n",
    "        \n",
    "        globals()[f\"[{project_name}]Crawling_{c}\"] = pd.concat(file_list, axis=0)\n",
    "        globals()[f\"[{project_name}]Crawling_{c}\"]['review'] = globals()[f\"[{project_name}]Crawling_{c}\"]['review'].apply(preprocess_text)\n",
    "        globals()[f\"[{project_name}]Crawling_{c}\"].to_csv(f'./data/[{project_name}]Crawling_{c}.csv', encoding='utf-8-sig', index=False)\n",
    "\n",
    "        globals()[f\"[{project_name}]Crawling_{c}_labeling\"] = globals()[f\"[{project_name}]Crawling_{c}\"].sample(n=None, frac=sample_frac, replace=False, weights=None, random_state=42, axis=None, ignore_index=False)\n",
    "\n",
    "        label_list.append(globals()[f\"[{project_name}]Crawling_{c}_labeling\"])\n",
    "    \n",
    "    label_merged = pd.concat(label_list, axis=0)\n",
    "    label_merged['0 or 1'] = 0\n",
    "    \n",
    "    temp = len(label_merged['review'])//group_num\n",
    "    for i in range(group_num):\n",
    "        lebel_grouped = label_merged.iloc[temp*i:temp*(i+1)]\n",
    "        lebel_grouped.to_csv(f'{labeling_result_path}/[{project_name}]Labeling_group{i}.csv', index=False)"
   ]
  },
  {
   "cell_type": "code",
   "execution_count": 14,
   "metadata": {},
   "outputs": [],
   "source": [
    "project_name = '세라젬'\n",
    "channel = ['musinsa', 'naver']\n",
    "group_num = 4\n",
    "\n",
    "crawling_data_path = './0.크롤링/result' #크롤링 파일 위치\n",
    "labeling_result_path = './1.전처리_라벨링파일생성/result' #저장할 라벨링 파일 위치\n",
    "sample_frac = 0.02\n",
    "\n",
    "main(project_name, channel, crawling_data_path, labeling_result_path, group_num, sample_frac)"
   ]
  },
  {
   "cell_type": "code",
   "execution_count": null,
   "metadata": {},
   "outputs": [],
   "source": []
  },
  {
   "cell_type": "code",
   "execution_count": null,
   "metadata": {},
   "outputs": [],
   "source": []
  },
  {
   "cell_type": "code",
   "execution_count": null,
   "metadata": {},
   "outputs": [],
   "source": []
  },
  {
   "cell_type": "code",
   "execution_count": null,
   "metadata": {},
   "outputs": [],
   "source": []
  },
  {
   "cell_type": "code",
   "execution_count": null,
   "metadata": {},
   "outputs": [],
   "source": []
  }
 ],
 "metadata": {
  "kernelspec": {
   "display_name": "test",
   "language": "python",
   "name": "python3"
  },
  "language_info": {
   "codemirror_mode": {
    "name": "ipython",
    "version": 3
   },
   "file_extension": ".py",
   "mimetype": "text/x-python",
   "name": "python",
   "nbconvert_exporter": "python",
   "pygments_lexer": "ipython3",
   "version": "3.11.9"
  },
  "orig_nbformat": 4
 },
 "nbformat": 4,
 "nbformat_minor": 2
}
