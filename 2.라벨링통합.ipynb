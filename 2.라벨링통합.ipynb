{
 "cells": [
  {
   "cell_type": "code",
   "execution_count": 26,
   "metadata": {},
   "outputs": [
    {
     "data": {
      "text/plain": [
       "'/Users/chance/Desktop/Project/세라잼/DCX'"
      ]
     },
     "execution_count": 26,
     "metadata": {},
     "output_type": "execute_result"
    }
   ],
   "source": [
    "import pandas as pd\n",
    "import glob\n",
    "import os\n",
    "os.getcwd()\n",
    "\n",
    "#test"
   ]
  },
  {
   "cell_type": "code",
   "execution_count": 27,
   "metadata": {},
   "outputs": [],
   "source": [
    "labeled_data_path = './2.라벨링통합'\n",
    "group_num = 4\n",
    "project_name = '세라젬'"
   ]
  },
  {
   "cell_type": "code",
   "execution_count": 32,
   "metadata": {},
   "outputs": [],
   "source": [
    "def main(labeled_data_path, group_num, project_name):\n",
    "    merged_list = []\n",
    "    for i in range(group_num):\n",
    "        labeled_path_list = glob.glob(f'{labeled_data_path}/*{i}*.csv')\n",
    "        print(labeled_path_list)\n",
    "        dfs = []\n",
    "        # 모든 CSV 파일을 읽어들입니다.\n",
    "        for j, file in enumerate(labeled_path_list):\n",
    "            df = pd.read_csv(file)\n",
    "            df = df.drop(columns=[col for col in df.columns if 'Unnamed' in col])\n",
    "            df.columns = ['review', f'coder{j}']\n",
    "            dfs.append(pd.DataFrame(df[f'coder{j}']))\n",
    "\n",
    "        df1 = [pd.DataFrame(df['review'])]\n",
    "        \n",
    "        merged_df = pd.concat(df1 + dfs, axis=1)\n",
    "        merged_list.append(merged_df)\n",
    "\n",
    "    temp = pd.concat(merged_list, axis=0).dropna(subset='review')\n",
    "    temp = temp.fillna(0)\n",
    "    temp['target'] = temp[temp.columns[1:]].mode(axis=1)[0].astype(int)\n",
    "    temp.to_csv(f'{labeled_data_path}/result/[{project_name}]Labeled.csv', index=False)"
   ]
  },
  {
   "cell_type": "code",
   "execution_count": 33,
   "metadata": {},
   "outputs": [
    {
     "name": "stdout",
     "output_type": "stream",
     "text": [
      "['./2.라벨링통합/[세라젬]Labeling_group0.csv']\n",
      "['./2.라벨링통합/[세라젬]Labeling_group1.csv']\n",
      "['./2.라벨링통합/[세라젬]Labeling_group2.csv']\n",
      "['./2.라벨링통합/[세라젬]Labeling_group3.csv']\n"
     ]
    }
   ],
   "source": [
    "main(labeled_data_path, group_num, project_name)"
   ]
  },
  {
   "cell_type": "code",
   "execution_count": null,
   "metadata": {},
   "outputs": [],
   "source": []
  }
 ],
 "metadata": {
  "kernelspec": {
   "display_name": "test",
   "language": "python",
   "name": "python3"
  },
  "language_info": {
   "codemirror_mode": {
    "name": "ipython",
    "version": 3
   },
   "file_extension": ".py",
   "mimetype": "text/x-python",
   "name": "python",
   "nbconvert_exporter": "python",
   "pygments_lexer": "ipython3",
   "version": "3.11.9"
  },
  "orig_nbformat": 4
 },
 "nbformat": 4,
 "nbformat_minor": 2
}
